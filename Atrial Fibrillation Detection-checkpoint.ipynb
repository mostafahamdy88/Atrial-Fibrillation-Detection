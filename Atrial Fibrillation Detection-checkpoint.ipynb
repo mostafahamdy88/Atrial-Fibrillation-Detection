{
 "cells": [
  {
   "cell_type": "markdown",
   "metadata": {
    "papermill": {
     "duration": 0.040312,
     "end_time": "2021-12-19T15:57:17.666919",
     "exception": false,
     "start_time": "2021-12-19T15:57:17.626607",
     "status": "completed"
    },
    "tags": []
   },
   "source": [
    "<center><h1 class=\"list-group-item list-group-item-success\">Atrial Fibrillation Detection</h1></center>"
   ]
  },
  {
   "cell_type": "markdown",
   "metadata": {
    "papermill": {
     "duration": 0.036723,
     "end_time": "2021-12-19T15:57:17.813923",
     "exception": false,
     "start_time": "2021-12-19T15:57:17.777200",
     "status": "completed"
    },
    "tags": []
   },
   "source": [
    "# Importing Packages"
   ]
  },
  {
   "cell_type": "code",
   "execution_count": 9,
   "metadata": {
    "execution": {
     "iopub.execute_input": "2021-12-19T15:57:17.892493Z",
     "iopub.status.busy": "2021-12-19T15:57:17.891283Z",
     "iopub.status.idle": "2021-12-19T15:57:24.930288Z",
     "shell.execute_reply": "2021-12-19T15:57:24.929431Z",
     "shell.execute_reply.started": "2021-12-19T15:20:17.186388Z"
    },
    "papermill": {
     "duration": 7.079743,
     "end_time": "2021-12-19T15:57:24.930482",
     "exception": false,
     "start_time": "2021-12-19T15:57:17.850739",
     "status": "completed"
    },
    "tags": []
   },
   "outputs": [],
   "source": [
    "# Importing Required Packages\n",
    "import pandas as pd\n",
    "import numpy as np\n",
    "import matplotlib.pyplot as plt\n",
    "from keras.layers import Conv1D\n",
    "import wfdb                            # Package for loading the ecg and annotation\n",
    "from sklearn.model_selection import train_test_split\n",
    "from keras.models import Sequential\n",
    "from keras.layers import Dense, Flatten, Dropout\n",
    "from tensorflow.keras.utils import to_categorical\n",
    "from sklearn.metrics import roc_auc_score, accuracy_score, precision_score, recall_score\n",
    "import warnings\n",
    "warnings.filterwarnings(\"ignore\") \n",
    "import random\n",
    "from keras.layers import Bidirectional, LSTM\n",
    "# Random Initialization\n",
    "random.seed(42)"
   ]
  },
  {
   "cell_type": "markdown",
   "metadata": {
    "papermill": {
     "duration": 0.037997,
     "end_time": "2021-12-19T15:57:25.006286",
     "exception": false,
     "start_time": "2021-12-19T15:57:24.968289",
     "status": "completed"
    },
    "tags": []
   },
   "source": [
    "# Importing Data"
   ]
  },
  {
   "cell_type": "code",
   "execution_count": 10,
   "metadata": {
    "execution": {
     "iopub.execute_input": "2021-12-19T15:57:25.088316Z",
     "iopub.status.busy": "2021-12-19T15:57:25.087232Z",
     "iopub.status.idle": "2021-12-19T15:57:25.089240Z",
     "shell.execute_reply": "2021-12-19T15:57:25.089859Z",
     "shell.execute_reply.started": "2021-12-19T15:20:18.555373Z"
    },
    "papermill": {
     "duration": 0.046243,
     "end_time": "2021-12-19T15:57:25.090045",
     "exception": false,
     "start_time": "2021-12-19T15:57:25.043802",
     "status": "completed"
    },
    "tags": []
   },
   "outputs": [],
   "source": [
    "# Importing Data\n",
    "data = 'C:/Users/Abdul/Downloads/mit-bih-atrial-fibrillation-database-1.0.0/files/'"
   ]
  },
  {
   "cell_type": "code",
   "execution_count": 11,
   "metadata": {
    "execution": {
     "iopub.execute_input": "2021-12-19T15:57:25.175665Z",
     "iopub.status.busy": "2021-12-19T15:57:25.174654Z",
     "iopub.status.idle": "2021-12-19T15:57:25.177632Z",
     "shell.execute_reply": "2021-12-19T15:57:25.178210Z",
     "shell.execute_reply.started": "2021-12-19T15:20:19.165036Z"
    },
    "papermill": {
     "duration": 0.049813,
     "end_time": "2021-12-19T15:57:25.178423",
     "exception": false,
     "start_time": "2021-12-19T15:57:25.128610",
     "status": "completed"
    },
    "tags": []
   },
   "outputs": [],
   "source": [
    "# List of Patients\n",
    "patients = ['04015', '04043', '04048', '04126', '04746']# , '04908', '04936', '05091', '05121', '05261', '06426', '06453', '06995', '07162',\n",
    "           #'07859', '07910', '08215', '08219', '08378', '08405', '08434', '08455']"
   ]
  },
  {
   "cell_type": "markdown",
   "metadata": {
    "papermill": {
     "duration": 0.03673,
     "end_time": "2021-12-19T15:57:25.252358",
     "exception": false,
     "start_time": "2021-12-19T15:57:25.215628",
     "status": "completed"
    },
    "tags": []
   },
   "source": [
    "# Analysing Data"
   ]
  },
  {
   "cell_type": "code",
   "execution_count": 12,
   "metadata": {
    "execution": {
     "iopub.execute_input": "2021-12-19T15:57:25.329753Z",
     "iopub.status.busy": "2021-12-19T15:57:25.329080Z",
     "iopub.status.idle": "2021-12-19T15:57:27.931945Z",
     "shell.execute_reply": "2021-12-19T15:57:27.931003Z",
     "shell.execute_reply.started": "2021-12-19T15:20:20.284901Z"
    },
    "papermill": {
     "duration": 2.64284,
     "end_time": "2021-12-19T15:57:27.932199",
     "exception": false,
     "start_time": "2021-12-19T15:57:25.289359",
     "status": "completed"
    },
    "tags": []
   },
   "outputs": [],
   "source": [
    "# Creating a Empty Dataframe\n",
    "symbols_df = pd.DataFrame()\n",
    "\n",
    "# Reading all .atr files \n",
    "for pts in patients:\n",
    "    # Generating filepath for all .atr file names\n",
    "    file = data + pts\n",
    "    # Saving annotation object\n",
    "    annotation = wfdb.rdann(file, 'atr')\n",
    "    # Extracting symbols from the object\n",
    "    sym = annotation.aux_note\n",
    "    qrs = wfdb.rdann(file, 'qrs')\n",
    "    symbol = qrs.symbol\n",
    "    sym += symbol\n",
    "    # Saving value counts\n",
    "    values, counts = np.unique(sym, return_counts=True)\n",
    "    # Writing data points into dataframe\n",
    "    df_sub = pd.DataFrame({'symbol':values, 'Counts':counts, 'Patient Number':[pts]*len(counts)})\n",
    "    # Concatenating all data points  \n",
    "    symbols_df = pd.concat([symbols_df, df_sub],axis = 0)"
   ]
  },
  {
   "cell_type": "code",
   "execution_count": 13,
   "metadata": {
    "execution": {
     "iopub.execute_input": "2021-12-19T15:57:28.014462Z",
     "iopub.status.busy": "2021-12-19T15:57:28.013797Z",
     "iopub.status.idle": "2021-12-19T15:57:28.025895Z",
     "shell.execute_reply": "2021-12-19T15:57:28.026496Z",
     "shell.execute_reply.started": "2021-12-19T15:20:22.928992Z"
    },
    "papermill": {
     "duration": 0.056884,
     "end_time": "2021-12-19T15:57:28.026694",
     "exception": false,
     "start_time": "2021-12-19T15:57:27.969810",
     "status": "completed"
    },
    "scrolled": true,
    "tags": []
   },
   "outputs": [
    {
     "data": {
      "text/html": [
       "<div>\n",
       "<style scoped>\n",
       "    .dataframe tbody tr th:only-of-type {\n",
       "        vertical-align: middle;\n",
       "    }\n",
       "\n",
       "    .dataframe tbody tr th {\n",
       "        vertical-align: top;\n",
       "    }\n",
       "\n",
       "    .dataframe thead th {\n",
       "        text-align: right;\n",
       "    }\n",
       "</style>\n",
       "<table border=\"1\" class=\"dataframe\">\n",
       "  <thead>\n",
       "    <tr style=\"text-align: right;\">\n",
       "      <th></th>\n",
       "      <th>symbol</th>\n",
       "      <th>Counts</th>\n",
       "      <th>Patient Number</th>\n",
       "    </tr>\n",
       "  </thead>\n",
       "  <tbody>\n",
       "    <tr>\n",
       "      <th>0</th>\n",
       "      <td>(AFIB</td>\n",
       "      <td>7</td>\n",
       "      <td>04015</td>\n",
       "    </tr>\n",
       "    <tr>\n",
       "      <th>1</th>\n",
       "      <td>(N</td>\n",
       "      <td>8</td>\n",
       "      <td>04015</td>\n",
       "    </tr>\n",
       "    <tr>\n",
       "      <th>2</th>\n",
       "      <td>N</td>\n",
       "      <td>44005</td>\n",
       "      <td>04015</td>\n",
       "    </tr>\n",
       "    <tr>\n",
       "      <th>0</th>\n",
       "      <td>(AFIB</td>\n",
       "      <td>82</td>\n",
       "      <td>04043</td>\n",
       "    </tr>\n",
       "    <tr>\n",
       "      <th>1</th>\n",
       "      <td>(AFL</td>\n",
       "      <td>1</td>\n",
       "      <td>04043</td>\n",
       "    </tr>\n",
       "    <tr>\n",
       "      <th>2</th>\n",
       "      <td>(N</td>\n",
       "      <td>83</td>\n",
       "      <td>04043</td>\n",
       "    </tr>\n",
       "    <tr>\n",
       "      <th>3</th>\n",
       "      <td>N</td>\n",
       "      <td>61915</td>\n",
       "      <td>04043</td>\n",
       "    </tr>\n",
       "    <tr>\n",
       "      <th>0</th>\n",
       "      <td>(AFIB</td>\n",
       "      <td>7</td>\n",
       "      <td>04048</td>\n",
       "    </tr>\n",
       "    <tr>\n",
       "      <th>1</th>\n",
       "      <td>(N</td>\n",
       "      <td>8</td>\n",
       "      <td>04048</td>\n",
       "    </tr>\n",
       "    <tr>\n",
       "      <th>2</th>\n",
       "      <td>N</td>\n",
       "      <td>39934</td>\n",
       "      <td>04048</td>\n",
       "    </tr>\n",
       "    <tr>\n",
       "      <th>0</th>\n",
       "      <td>(AFIB</td>\n",
       "      <td>7</td>\n",
       "      <td>04126</td>\n",
       "    </tr>\n",
       "    <tr>\n",
       "      <th>1</th>\n",
       "      <td>(N</td>\n",
       "      <td>8</td>\n",
       "      <td>04126</td>\n",
       "    </tr>\n",
       "    <tr>\n",
       "      <th>2</th>\n",
       "      <td>N</td>\n",
       "      <td>42860</td>\n",
       "      <td>04126</td>\n",
       "    </tr>\n",
       "    <tr>\n",
       "      <th>0</th>\n",
       "      <td>(AFIB</td>\n",
       "      <td>5</td>\n",
       "      <td>04746</td>\n",
       "    </tr>\n",
       "    <tr>\n",
       "      <th>1</th>\n",
       "      <td>(N</td>\n",
       "      <td>6</td>\n",
       "      <td>04746</td>\n",
       "    </tr>\n",
       "    <tr>\n",
       "      <th>2</th>\n",
       "      <td>N</td>\n",
       "      <td>47873</td>\n",
       "      <td>04746</td>\n",
       "    </tr>\n",
       "  </tbody>\n",
       "</table>\n",
       "</div>"
      ],
      "text/plain": [
       "  symbol  Counts Patient Number\n",
       "0  (AFIB       7          04015\n",
       "1     (N       8          04015\n",
       "2      N   44005          04015\n",
       "0  (AFIB      82          04043\n",
       "1   (AFL       1          04043\n",
       "2     (N      83          04043\n",
       "3      N   61915          04043\n",
       "0  (AFIB       7          04048\n",
       "1     (N       8          04048\n",
       "2      N   39934          04048\n",
       "0  (AFIB       7          04126\n",
       "1     (N       8          04126\n",
       "2      N   42860          04126\n",
       "0  (AFIB       5          04746\n",
       "1     (N       6          04746\n",
       "2      N   47873          04746"
      ]
     },
     "execution_count": 13,
     "metadata": {},
     "output_type": "execute_result"
    }
   ],
   "source": [
    "# Symbols Dataframe\n",
    "symbols_df"
   ]
  },
  {
   "cell_type": "code",
   "execution_count": 15,
   "metadata": {
    "execution": {
     "iopub.execute_input": "2021-12-19T15:57:28.192602Z",
     "iopub.status.busy": "2021-12-19T15:57:28.191885Z",
     "iopub.status.idle": "2021-12-19T15:57:28.200306Z",
     "shell.execute_reply": "2021-12-19T15:57:28.200900Z",
     "shell.execute_reply.started": "2021-12-19T15:20:22.952831Z"
    },
    "papermill": {
     "duration": 0.135813,
     "end_time": "2021-12-19T15:57:28.201079",
     "exception": false,
     "start_time": "2021-12-19T15:57:28.065266",
     "status": "completed"
    },
    "scrolled": true,
    "tags": []
   },
   "outputs": [
    {
     "data": {
      "text/plain": [
       "symbol\n",
       "N        236587\n",
       "(N          113\n",
       "(AFIB       108\n",
       "(AFL          1\n",
       "Name: Counts, dtype: int64"
      ]
     },
     "execution_count": 15,
     "metadata": {},
     "output_type": "execute_result"
    }
   ],
   "source": [
    "# Value Counts of Different symbols in data\n",
    "symbols_df.groupby('symbol').Counts.sum().sort_values(ascending = False)"
   ]
  },
  {
   "cell_type": "markdown",
   "metadata": {
    "papermill": {
     "duration": 0.046446,
     "end_time": "2021-12-19T15:57:28.292901",
     "exception": false,
     "start_time": "2021-12-19T15:57:28.246455",
     "status": "completed"
    },
    "tags": []
   },
   "source": [
    "# Data Transformation"
   ]
  },
  {
   "cell_type": "code",
   "execution_count": 16,
   "metadata": {
    "execution": {
     "iopub.execute_input": "2021-12-19T15:57:28.372860Z",
     "iopub.status.busy": "2021-12-19T15:57:28.372256Z",
     "iopub.status.idle": "2021-12-19T15:57:28.375832Z",
     "shell.execute_reply": "2021-12-19T15:57:28.376401Z",
     "shell.execute_reply.started": "2021-12-19T15:20:24.396357Z"
    },
    "papermill": {
     "duration": 0.045233,
     "end_time": "2021-12-19T15:57:28.376572",
     "exception": false,
     "start_time": "2021-12-19T15:57:28.331339",
     "status": "completed"
    },
    "tags": []
   },
   "outputs": [],
   "source": [
    "# Non Beat Symbols\n",
    "nonbeat = ['']\n",
    "\n",
    "# Abnormal Beat Symbols\n",
    "abnormal = ['(AFIB']\n",
    "\n",
    "# Normal Beat Symbols\n",
    "normal = ['N']"
   ]
  },
  {
   "cell_type": "code",
   "execution_count": 17,
   "metadata": {
    "execution": {
     "iopub.execute_input": "2021-12-19T15:57:28.459851Z",
     "iopub.status.busy": "2021-12-19T15:57:28.459163Z",
     "iopub.status.idle": "2021-12-19T15:57:28.463776Z",
     "shell.execute_reply": "2021-12-19T15:57:28.464420Z",
     "shell.execute_reply.started": "2021-12-19T15:20:24.909101Z"
    },
    "papermill": {
     "duration": 0.049711,
     "end_time": "2021-12-19T15:57:28.464603",
     "exception": false,
     "start_time": "2021-12-19T15:57:28.414892",
     "status": "completed"
    },
    "tags": []
   },
   "outputs": [],
   "source": [
    "# Classifying normal, abnormal or nonbeat\n",
    "symbols_df['category'] = -1\n",
    "symbols_df.loc[symbols_df.symbol == 'N','category'] = 0\n",
    "symbols_df.loc[symbols_df.symbol.isin(abnormal), 'category'] = 1"
   ]
  },
  {
   "cell_type": "code",
   "execution_count": 18,
   "metadata": {
    "execution": {
     "iopub.execute_input": "2021-12-19T15:57:28.544959Z",
     "iopub.status.busy": "2021-12-19T15:57:28.544030Z",
     "iopub.status.idle": "2021-12-19T15:57:28.551810Z",
     "shell.execute_reply": "2021-12-19T15:57:28.552414Z",
     "shell.execute_reply.started": "2021-12-19T15:20:25.358688Z"
    },
    "papermill": {
     "duration": 0.049697,
     "end_time": "2021-12-19T15:57:28.552588",
     "exception": false,
     "start_time": "2021-12-19T15:57:28.502891",
     "status": "completed"
    },
    "tags": []
   },
   "outputs": [
    {
     "data": {
      "text/plain": [
       "category\n",
       "-1       114\n",
       " 0    236587\n",
       " 1       108\n",
       "Name: Counts, dtype: int64"
      ]
     },
     "execution_count": 18,
     "metadata": {},
     "output_type": "execute_result"
    }
   ],
   "source": [
    "# Value counts of different categories\n",
    "symbols_df.groupby('category').Counts.sum()"
   ]
  },
  {
   "cell_type": "code",
   "execution_count": 19,
   "metadata": {
    "execution": {
     "iopub.execute_input": "2021-12-19T15:57:28.638605Z",
     "iopub.status.busy": "2021-12-19T15:57:28.637206Z",
     "iopub.status.idle": "2021-12-19T15:57:28.639901Z",
     "shell.execute_reply": "2021-12-19T15:57:28.640518Z",
     "shell.execute_reply.started": "2021-12-19T15:20:26.090987Z"
    },
    "papermill": {
     "duration": 0.049782,
     "end_time": "2021-12-19T15:57:28.640707",
     "exception": false,
     "start_time": "2021-12-19T15:57:28.590925",
     "status": "completed"
    },
    "tags": []
   },
   "outputs": [],
   "source": [
    "def load_ecg(file):    \n",
    "    # load the ecg\n",
    "    record = wfdb.rdrecord(file)\n",
    "    # load the annotation\n",
    "    annotation = wfdb.rdann(file, 'atr')\n",
    "    beats = wfdb.rdann(file, 'qrs')\n",
    "    \n",
    "    # extracting the signal\n",
    "    p_signal = record.p_signal\n",
    "\n",
    "    # extracting symbols and annotation index\n",
    "    atr_sym = annotation.aux_note\n",
    "    atr_sample = annotation.sample\n",
    "    symbol = beats.symbol # normal rythm\n",
    "    atr_sym += symbol\n",
    "    atr_sample = np.hstack((atr_sample, beats.sample))\n",
    "    \n",
    "    \n",
    "    \n",
    "    #beats.sample[0].append(1)\n",
    "    #atr_sample.append(beats.sample[0])\n",
    "    \n",
    "\n",
    "    return p_signal, atr_sym, atr_sample"
   ]
  },
  {
   "cell_type": "code",
   "execution_count": 20,
   "metadata": {
    "execution": {
     "iopub.execute_input": "2021-12-19T15:57:28.721510Z",
     "iopub.status.busy": "2021-12-19T15:57:28.720876Z",
     "iopub.status.idle": "2021-12-19T15:57:28.723959Z",
     "shell.execute_reply": "2021-12-19T15:57:28.724460Z",
     "shell.execute_reply.started": "2021-12-19T15:20:26.940202Z"
    },
    "papermill": {
     "duration": 0.045258,
     "end_time": "2021-12-19T15:57:28.724647",
     "exception": false,
     "start_time": "2021-12-19T15:57:28.679389",
     "status": "completed"
    },
    "tags": []
   },
   "outputs": [],
   "source": [
    "# Accessing the ecg points for \n",
    "file = data + patients[1]"
   ]
  },
  {
   "cell_type": "code",
   "execution_count": 21,
   "metadata": {
    "execution": {
     "iopub.execute_input": "2021-12-19T15:57:28.805481Z",
     "iopub.status.busy": "2021-12-19T15:57:28.804713Z",
     "iopub.status.idle": "2021-12-19T15:57:31.943244Z",
     "shell.execute_reply": "2021-12-19T15:57:31.943753Z",
     "shell.execute_reply.started": "2021-12-19T15:20:29.523564Z"
    },
    "papermill": {
     "duration": 3.181254,
     "end_time": "2021-12-19T15:57:31.943961",
     "exception": false,
     "start_time": "2021-12-19T15:57:28.762707",
     "status": "completed"
    },
    "tags": []
   },
   "outputs": [],
   "source": [
    "# Accessing the load ECG function and getting annotation.symbol, annotation.sample, signals\n",
    "p_signal, atr_sym, atr_sample = load_ecg(file)"
   ]
  },
  {
   "cell_type": "code",
   "execution_count": 22,
   "metadata": {
    "execution": {
     "iopub.execute_input": "2021-12-19T15:57:32.025990Z",
     "iopub.status.busy": "2021-12-19T15:57:32.025342Z",
     "iopub.status.idle": "2021-12-19T15:57:32.054023Z",
     "shell.execute_reply": "2021-12-19T15:57:32.054789Z",
     "shell.execute_reply.started": "2021-12-19T15:20:32.659178Z"
    },
    "papermill": {
     "duration": 0.071212,
     "end_time": "2021-12-19T15:57:32.055044",
     "exception": false,
     "start_time": "2021-12-19T15:57:31.983832",
     "status": "completed"
    },
    "tags": []
   },
   "outputs": [
    {
     "name": "stdout",
     "output_type": "stream",
     "text": [
      "(AFIB 5\n",
      "(N 6\n",
      "N 47873\n"
     ]
    }
   ],
   "source": [
    "# Analysing annotations value counts for a single record\n",
    "values, counts = np.unique(sym, return_counts=True)\n",
    "for v,c in zip(values, counts):\n",
    "    print(v,c)"
   ]
  },
  {
   "cell_type": "markdown",
   "metadata": {
    "papermill": {
     "duration": 0.038804,
     "end_time": "2021-12-19T15:57:32.134147",
     "exception": false,
     "start_time": "2021-12-19T15:57:32.095343",
     "status": "completed"
    },
    "tags": []
   },
   "source": [
    "# Data Visualization"
   ]
  },
  {
   "cell_type": "code",
   "execution_count": 23,
   "metadata": {
    "execution": {
     "iopub.execute_input": "2021-12-19T15:57:32.215157Z",
     "iopub.status.busy": "2021-12-19T15:57:32.214165Z",
     "iopub.status.idle": "2021-12-19T15:57:32.238256Z",
     "shell.execute_reply": "2021-12-19T15:57:32.239147Z",
     "shell.execute_reply.started": "2021-12-19T15:20:32.689981Z"
    },
    "papermill": {
     "duration": 0.066735,
     "end_time": "2021-12-19T15:57:32.239337",
     "exception": false,
     "start_time": "2021-12-19T15:57:32.172602",
     "status": "completed"
    },
    "tags": []
   },
   "outputs": [
    {
     "data": {
      "text/plain": [
       "[266498,\n",
       " 2585284,\n",
       " 2634911,\n",
       " 2745162,\n",
       " 2834739,\n",
       " 3119235,\n",
       " 3324526,\n",
       " 3607124,\n",
       " 3665624,\n",
       " 3690356]"
      ]
     },
     "execution_count": 23,
     "metadata": {},
     "output_type": "execute_result"
    }
   ],
   "source": [
    "# get abnormal beat index\n",
    "ab_index = [b for a,b in zip(atr_sym,atr_sample) if a in abnormal][:10]\n",
    "ab_index"
   ]
  },
  {
   "cell_type": "code",
   "execution_count": 24,
   "metadata": {
    "execution": {
     "iopub.execute_input": "2021-12-19T15:57:32.344842Z",
     "iopub.status.busy": "2021-12-19T15:57:32.344085Z",
     "iopub.status.idle": "2021-12-19T15:57:33.062277Z",
     "shell.execute_reply": "2021-12-19T15:57:33.062795Z",
     "shell.execute_reply.started": "2021-12-19T15:20:33.603250Z"
    },
    "papermill": {
     "duration": 0.770531,
     "end_time": "2021-12-19T15:57:33.062982",
     "exception": false,
     "start_time": "2021-12-19T15:57:32.292451",
     "status": "completed"
    },
    "tags": []
   },
   "outputs": [
    {
     "data": {
      "image/png": "[encoded data removed]",
      "text/plain": [
       "<Figure size 1440x576 with 1 Axes>"
      ]
     },
     "metadata": {
      "needs_background": "light"
     },
     "output_type": "display_data"
    }
   ],
   "source": [
    "# Generating evenly spaced values\n",
    "x = np.arange(len(p_signal))\n",
    "\n",
    "left = ab_index[5]-20000\n",
    "right = ab_index[5]+20000\n",
    "\n",
    "plt.figure(figsize=(20,8))\n",
    "plt.plot(x[left:right],p_signal[left:right,0],'-',label='ecg',)\n",
    "plt.plot(x[atr_sample],p_signal[atr_sample,0],'go',label ='normal')\n",
    "plt.plot(x[ab_index],p_signal[ab_index,0],'ro',label='abnormal')\n",
    "\n",
    "plt.xlim(left,right)\n",
    "plt.ylim(p_signal[left:right].min()-0.05,p_signal[left:right,0].max()+0.05)\n",
    "plt.xlabel('time index')\n",
    "plt.ylabel('ECG signal')\n",
    "plt.legend(bbox_to_anchor = (1.04,1), loc = 'upper left')\n",
    "plt.show()"
   ]
  },
  {
   "cell_type": "markdown",
   "metadata": {
    "papermill": {
     "duration": 0.042249,
     "end_time": "2021-12-19T15:57:33.150179",
     "exception": false,
     "start_time": "2021-12-19T15:57:33.107930",
     "status": "completed"
    },
    "tags": []
   },
   "source": [
    "# Data Preprocessing"
   ]
  },
  {
   "cell_type": "code",
   "execution_count": 25,
   "metadata": {
    "execution": {
     "iopub.execute_input": "2021-12-19T15:57:33.245878Z",
     "iopub.status.busy": "2021-12-19T15:57:33.244813Z",
     "iopub.status.idle": "2021-12-19T15:57:33.250897Z",
     "shell.execute_reply": "2021-12-19T15:57:33.250337Z",
     "shell.execute_reply.started": "2021-12-19T15:20:39.611883Z"
    },
    "papermill": {
     "duration": 0.058024,
     "end_time": "2021-12-19T15:57:33.251044",
     "exception": false,
     "start_time": "2021-12-19T15:57:33.193020",
     "status": "completed"
    },
    "tags": []
   },
   "outputs": [],
   "source": [
    "def make_dataset(pts, num_sec, fs, abnormal):\n",
    "    # function for making dataset ignoring non-beats\n",
    "    # input:\n",
    "    #   pts - list of patients\n",
    "    #   num_sec = number of seconds to include before and after the beat\n",
    "    #   fs = frequency\n",
    "    # output: \n",
    "    #   X_all = signal (nbeats , num_sec * fs columns)\n",
    "    #   Y_all = binary is abnormal (nbeats, 1)\n",
    "    #   sym_all = beat annotation symbol (nbeats,1)\n",
    "    \n",
    "    # initialize numpy arrays\n",
    "    num_cols = 2*num_sec * fs\n",
    "    X_all = np.zeros((1,num_cols))\n",
    "    Y_all = np.zeros((1,1))\n",
    "    sym_all = []\n",
    "    \n",
    "    # list to keep track of number of beats across patients\n",
    "    max_rows = []\n",
    "    \n",
    "    for pt in pts:\n",
    "        file = data + pt\n",
    "        \n",
    "        p_signal, atr_sym, atr_sample = load_ecg(file)\n",
    "        \n",
    "        # grab the first signal\n",
    "        p_signal = p_signal[:,0]\n",
    "        \n",
    "        # make df to exclude the nonbeats\n",
    "        df_ann = pd.DataFrame({'atr_sym':atr_sym,\n",
    "                              'atr_sample':atr_sample})\n",
    "        \n",
    "        #loc Access a group of rows and columns by label(s) or a boolean array.\n",
    "        #loc[] is primarily label based, but may also be used with a boolean array.\n",
    "        df_ann = df_ann.loc[df_ann.atr_sym.isin(abnormal + ['N'])]\n",
    "        \n",
    "        X,Y,sym = build_XY(p_signal,df_ann, num_cols, abnormal)\n",
    "        sym_all = sym_all+sym\n",
    "        max_rows.append(X.shape[0])\n",
    "        X_all = np.append(X_all,X,axis = 0)\n",
    "        Y_all = np.append(Y_all,Y,axis = 0)\n",
    "        \n",
    "    # drop the first zero row\n",
    "    X_all = X_all[1:,:]\n",
    "    Y_all = Y_all[1:,:]\n",
    "\n",
    "    return X_all, Y_all, sym_all\n"
   ]
  },
  {
   "cell_type": "code",
   "execution_count": 26,
   "metadata": {
    "execution": {
     "iopub.execute_input": "2021-12-19T15:57:33.347666Z",
     "iopub.status.busy": "2021-12-19T15:57:33.346912Z",
     "iopub.status.idle": "2021-12-19T15:57:33.349330Z",
     "shell.execute_reply": "2021-12-19T15:57:33.349928Z",
     "shell.execute_reply.started": "2021-12-19T15:20:41.344930Z"
    },
    "papermill": {
     "duration": 0.054489,
     "end_time": "2021-12-19T15:57:33.350111",
     "exception": false,
     "start_time": "2021-12-19T15:57:33.295622",
     "status": "completed"
    },
    "tags": []
   },
   "outputs": [],
   "source": [
    "def build_XY(p_signal, df_ann, num_cols, abnormal):\n",
    "    # this function builds the X,Y matrices for each beat\n",
    "    # it also returns the original symbols for Y\n",
    "    \n",
    "    num_rows = len(df_ann)\n",
    "\n",
    "    X = np.zeros((num_rows, num_cols))\n",
    "    Y = np.zeros((num_rows,1))\n",
    "    sym = []\n",
    "    \n",
    "    # keep track of rows\n",
    "    max_row = 0\n",
    "\n",
    "    for atr_sample, atr_sym in zip(df_ann.atr_sample.values,df_ann.atr_sym.values):\n",
    "\n",
    "        left = max([0,(atr_sample - num_sec*fs) ])\n",
    "        right = min([len(p_signal),(atr_sample + num_sec*fs) ])\n",
    "        x = p_signal[left: right]\n",
    "        if len(x) == num_cols:\n",
    "            X[max_row,:] = x\n",
    "            Y[max_row,:] = int(atr_sym in abnormal)\n",
    "            sym.append(atr_sym)\n",
    "            max_row += 1\n",
    "    X = X[:max_row,:]\n",
    "    Y = Y[:max_row,:]\n",
    "    return X,Y,sym"
   ]
  },
  {
   "cell_type": "code",
   "execution_count": 27,
   "metadata": {
    "execution": {
     "iopub.execute_input": "2021-12-19T15:57:33.441003Z",
     "iopub.status.busy": "2021-12-19T15:57:33.440027Z",
     "iopub.status.idle": "2021-12-19T15:57:33.443794Z",
     "shell.execute_reply": "2021-12-19T15:57:33.444267Z",
     "shell.execute_reply.started": "2021-12-19T15:20:43.003994Z"
    },
    "papermill": {
     "duration": 0.050583,
     "end_time": "2021-12-19T15:57:33.444456",
     "exception": false,
     "start_time": "2021-12-19T15:57:33.393873",
     "status": "completed"
    },
    "tags": []
   },
   "outputs": [],
   "source": [
    "# Parameter Values\n",
    "num_sec = 3\n",
    "fs = 360"
   ]
  },
  {
   "cell_type": "code",
   "execution_count": 28,
   "metadata": {
    "execution": {
     "iopub.execute_input": "2021-12-19T15:57:33.535298Z",
     "iopub.status.busy": "2021-12-19T15:57:33.534247Z",
     "iopub.status.idle": "2021-12-19T15:57:42.404497Z",
     "shell.execute_reply": "2021-12-19T15:57:42.403593Z",
     "shell.execute_reply.started": "2021-12-19T15:20:45.151300Z"
    },
    "papermill": {
     "duration": 8.917609,
     "end_time": "2021-12-19T15:57:42.404664",
     "exception": false,
     "start_time": "2021-12-19T15:57:33.487055",
     "status": "completed"
    },
    "tags": []
   },
   "outputs": [],
   "source": [
    "# Accessing the fuction and creating a dataset with ECG digital Points\n",
    "X_all, Y_all, sym_all = make_dataset(patients, num_sec, fs, abnormal)"
   ]
  },
  {
   "cell_type": "code",
   "execution_count": 29,
   "metadata": {
    "execution": {
     "iopub.execute_input": "2021-12-19T15:57:42.503637Z",
     "iopub.status.busy": "2021-12-19T15:57:42.502933Z",
     "iopub.status.idle": "2021-12-19T15:57:43.392966Z",
     "shell.execute_reply": "2021-12-19T15:57:43.393527Z",
     "shell.execute_reply.started": "2021-12-19T15:20:59.323185Z"
    },
    "papermill": {
     "duration": 0.945838,
     "end_time": "2021-12-19T15:57:43.393740",
     "exception": false,
     "start_time": "2021-12-19T15:57:42.447902",
     "status": "completed"
    },
    "tags": []
   },
   "outputs": [],
   "source": [
    "# Train Test Split\n",
    "X_train, X_test, y_train, y_test = train_test_split(X_all, Y_all, test_size=0.33, random_state=42)"
   ]
  },
  {
   "cell_type": "markdown",
   "metadata": {
    "papermill": {
     "duration": 0.042842,
     "end_time": "2021-12-19T15:57:43.479319",
     "exception": false,
     "start_time": "2021-12-19T15:57:43.436477",
     "status": "completed"
    },
    "tags": []
   },
   "source": [
    "# Training Models"
   ]
  },
  {
   "cell_type": "markdown",
   "metadata": {
    "papermill": {
     "duration": 0.042429,
     "end_time": "2021-12-19T15:57:43.564454",
     "exception": false,
     "start_time": "2021-12-19T15:57:43.522025",
     "status": "completed"
    },
    "tags": []
   },
   "source": [
    "## Dense Neural Networks(DNN)"
   ]
  },
  {
   "cell_type": "code",
   "execution_count": 30,
   "metadata": {
    "execution": {
     "iopub.execute_input": "2021-12-19T15:57:43.653491Z",
     "iopub.status.busy": "2021-12-19T15:57:43.652817Z",
     "iopub.status.idle": "2021-12-19T15:57:43.778331Z",
     "shell.execute_reply": "2021-12-19T15:57:43.779162Z",
     "shell.execute_reply.started": "2021-12-19T15:21:03.259302Z"
    },
    "papermill": {
     "duration": 0.172217,
     "end_time": "2021-12-19T15:57:43.779409",
     "exception": false,
     "start_time": "2021-12-19T15:57:43.607192",
     "status": "completed"
    },
    "tags": []
   },
   "outputs": [],
   "source": [
    "# Relu for activation function and drop out for regularization\n",
    "# Sequential: Means layer by layer\n",
    "# Dense: is the regular deeply connected neural network layer\n",
    "# units:- Positive integer, dimensionality of the output space.\n",
    "# activation: Activation function to use. default = linear.\n",
    "\n",
    "model = Sequential()\n",
    "model.add(Dense(32, activation = 'relu', input_dim = X_train.shape[1]))\n",
    "\n",
    "#The Dropout layer randomly sets input units to 0 with a frequency of rate at each step during training time\n",
    "model.add(Dropout(rate = 0.25))\n",
    "model.add(Dense(1, activation = 'sigmoid'))"
   ]
  },
  {
   "cell_type": "code",
   "execution_count": 31,
   "metadata": {
    "execution": {
     "iopub.execute_input": "2021-12-19T15:57:43.874208Z",
     "iopub.status.busy": "2021-12-19T15:57:43.873498Z",
     "iopub.status.idle": "2021-12-19T15:57:43.885621Z",
     "shell.execute_reply": "2021-12-19T15:57:43.885019Z",
     "shell.execute_reply.started": "2021-12-19T15:21:09.936462Z"
    },
    "papermill": {
     "duration": 0.061631,
     "end_time": "2021-12-19T15:57:43.885790",
     "exception": false,
     "start_time": "2021-12-19T15:57:43.824159",
     "status": "completed"
    },
    "tags": []
   },
   "outputs": [],
   "source": [
    "# Compiling model with  binary crossentropy and the adam optimizer\n",
    "model.compile(loss = 'binary_crossentropy',\n",
    "                optimizer = 'adam',\n",
    "                metrics = ['accuracy'])"
   ]
  },
  {
   "cell_type": "code",
   "execution_count": 32,
   "metadata": {
    "execution": {
     "iopub.execute_input": "2021-12-19T15:57:43.980397Z",
     "iopub.status.busy": "2021-12-19T15:57:43.979668Z",
     "iopub.status.idle": "2021-12-19T15:58:39.442741Z",
     "shell.execute_reply": "2021-12-19T15:58:39.442114Z",
     "shell.execute_reply.started": "2021-12-19T15:21:11.116998Z"
    },
    "papermill": {
     "duration": 55.512602,
     "end_time": "2021-12-19T15:58:39.442905",
     "exception": false,
     "start_time": "2021-12-19T15:57:43.930303",
     "status": "completed"
    },
    "tags": []
   },
   "outputs": [
    {
     "name": "stdout",
     "output_type": "stream",
     "text": [
      "Epoch 1/10\n",
      "4956/4956 [==============================] - 8s 1ms/step - loss: 0.0087 - accuracy: 0.9987\n",
      "Epoch 2/10\n",
      "4956/4956 [==============================] - 7s 1ms/step - loss: 0.0026 - accuracy: 0.9996\n",
      "Epoch 3/10\n",
      "4956/4956 [==============================] - 7s 1ms/step - loss: 0.0020 - accuracy: 0.9997\n",
      "Epoch 4/10\n",
      "4956/4956 [==============================] - 7s 1ms/step - loss: 0.0017 - accuracy: 0.9997\n",
      "Epoch 5/10\n",
      "4956/4956 [==============================] - 7s 1ms/step - loss: 0.0013 - accuracy: 0.9997\n",
      "Epoch 6/10\n",
      "4956/4956 [==============================] - 7s 1ms/step - loss: 0.0016 - accuracy: 0.9997\n",
      "Epoch 7/10\n",
      "4956/4956 [==============================] - 7s 1ms/step - loss: 0.0011 - accuracy: 0.9998\n",
      "Epoch 8/10\n",
      "4956/4956 [==============================] - 7s 1ms/step - loss: 0.0010 - accuracy: 0.9998\n",
      "Epoch 9/10\n",
      "4956/4956 [==============================] - 7s 1ms/step - loss: 0.0010 - accuracy: 0.9998\n",
      "Epoch 10/10\n",
      "4956/4956 [==============================] - 7s 1ms/step - loss: 8.2017e-04 - accuracy: 0.9998\n"
     ]
    },
    {
     "data": {
      "text/plain": [
       "<keras.callbacks.History at 0x29f8a1557f0>"
      ]
     },
     "execution_count": 32,
     "metadata": {},
     "output_type": "execute_result"
    }
   ],
   "source": [
    "# Fitting the model\n",
    "#batch_size: Number of samples per gradient update\n",
    "#epochs: iteration\n",
    "\n",
    "model.fit(X_train, y_train, batch_size = 32, epochs= 10, verbose = 1)"
   ]
  },
  {
   "cell_type": "code",
   "execution_count": 33,
   "metadata": {
    "execution": {
     "iopub.execute_input": "2021-12-19T15:58:40.189978Z",
     "iopub.status.busy": "2021-12-19T15:58:40.188993Z",
     "iopub.status.idle": "2021-12-19T15:58:40.196904Z",
     "shell.execute_reply": "2021-12-19T15:58:40.197509Z",
     "shell.execute_reply.started": "2021-12-19T15:22:06.236174Z"
    },
    "papermill": {
     "duration": 0.38366,
     "end_time": "2021-12-19T15:58:40.197695",
     "exception": false,
     "start_time": "2021-12-19T15:58:39.814035",
     "status": "completed"
    },
    "tags": []
   },
   "outputs": [],
   "source": [
    "# Evaluation Metrics\n",
    "def print_report(y_actual, y_pred, thresh):\n",
    "    # Function to print evaluation metrics\n",
    "    auc = roc_auc_score(y_actual, y_pred)\n",
    "    accuracy = accuracy_score(y_actual, (y_pred > thresh))\n",
    "    \n",
    "    print('AUC:%.3f'%auc)\n",
    "    print('Accuracy:%.3f'%accuracy)\n",
    "   \n",
    "    print(' ')\n",
    "    return auc, accuracy"
   ]
  },
  {
   "cell_type": "code",
   "execution_count": 25,
   "metadata": {
    "execution": {
     "iopub.execute_input": "2021-12-19T15:58:40.935503Z",
     "iopub.status.busy": "2021-12-19T15:58:40.933203Z",
     "iopub.status.idle": "2021-12-19T15:58:46.539547Z",
     "shell.execute_reply": "2021-12-19T15:58:46.540374Z",
     "shell.execute_reply.started": "2021-12-19T15:22:08.750002Z"
    },
    "papermill": {
     "duration": 5.977544,
     "end_time": "2021-12-19T15:58:46.540570",
     "exception": false,
     "start_time": "2021-12-19T15:58:40.563026",
     "status": "completed"
    },
    "tags": []
   },
   "outputs": [
    {
     "name": "stdout",
     "output_type": "stream",
     "text": [
      "4956/4956 [==============================] - 4s 801us/step\n",
      "2441/2441 [==============================] - 2s 868us/step\n"
     ]
    }
   ],
   "source": [
    "# Predictions\n",
    "y_train_preds_dense = model.predict(X_train,verbose = 1)\n",
    "y_test_preds_dense = model.predict(X_test,verbose = 1)"
   ]
  },
  {
   "cell_type": "code",
   "execution_count": 26,
   "metadata": {
    "execution": {
     "iopub.execute_input": "2021-12-19T15:58:47.328564Z",
     "iopub.status.busy": "2021-12-19T15:58:47.327906Z",
     "iopub.status.idle": "2021-12-19T15:58:47.403102Z",
     "shell.execute_reply": "2021-12-19T15:58:47.403609Z",
     "shell.execute_reply.started": "2021-12-19T15:22:13.824776Z"
    },
    "papermill": {
     "duration": 0.468359,
     "end_time": "2021-12-19T15:58:47.403820",
     "exception": false,
     "start_time": "2021-12-19T15:58:46.935461",
     "status": "completed"
    },
    "tags": []
   },
   "outputs": [],
   "source": [
    "# Threshold Value\n",
    "thresh = (sum(y_train)/len(y_train))[0]"
   ]
  },
  {
   "cell_type": "code",
   "execution_count": 2,
   "metadata": {
    "execution": {
     "iopub.execute_input": "2021-12-19T15:58:48.186494Z",
     "iopub.status.busy": "2021-12-19T15:58:48.183908Z",
     "iopub.status.idle": "2021-12-19T15:58:48.757583Z",
     "shell.execute_reply": "2021-12-19T15:58:48.758311Z",
     "shell.execute_reply.started": "2021-12-19T15:22:13.904086Z"
    },
    "papermill": {
     "duration": 0.967362,
     "end_time": "2021-12-19T15:58:48.758519",
     "exception": false,
     "start_time": "2021-12-19T15:58:47.791157",
     "status": "completed"
    },
    "tags": []
   },
   "outputs": [
    {
     "name": "stdout",
     "output_type": "stream",
     "text": [
      "On Train Data\n"
     ]
    },
    {
     "ename": "NameError",
     "evalue": "name 'y_train' is not defined",
     "output_type": "error",
     "traceback": [
      "\u001b[1;31m---------------------------------------------------------------------------\u001b[0m",
      "\u001b[1;31mNameError\u001b[0m                                 Traceback (most recent call last)",
      "\u001b[1;32m<ipython-input-2-34ce24e88c91>\u001b[0m in \u001b[0;36m<module>\u001b[1;34m\u001b[0m\n\u001b[0;32m      1\u001b[0m \u001b[1;31m# Accessing Evaluation Metrics Function\u001b[0m\u001b[1;33m\u001b[0m\u001b[1;33m\u001b[0m\u001b[1;33m\u001b[0m\u001b[0m\n\u001b[0;32m      2\u001b[0m \u001b[0mprint\u001b[0m\u001b[1;33m(\u001b[0m\u001b[1;34m'On Train Data'\u001b[0m\u001b[1;33m)\u001b[0m\u001b[1;33m\u001b[0m\u001b[1;33m\u001b[0m\u001b[0m\n\u001b[1;32m----> 3\u001b[1;33m \u001b[0mprint_report\u001b[0m\u001b[1;33m(\u001b[0m\u001b[0my_train\u001b[0m\u001b[1;33m,\u001b[0m \u001b[0my_train_preds_dense\u001b[0m\u001b[1;33m,\u001b[0m \u001b[0mthresh\u001b[0m\u001b[1;33m)\u001b[0m\u001b[1;33m\u001b[0m\u001b[1;33m\u001b[0m\u001b[0m\n\u001b[0m\u001b[0;32m      4\u001b[0m \u001b[0mprint\u001b[0m\u001b[1;33m(\u001b[0m\u001b[1;34m'On Test Data'\u001b[0m\u001b[1;33m)\u001b[0m\u001b[1;33m\u001b[0m\u001b[1;33m\u001b[0m\u001b[0m\n\u001b[0;32m      5\u001b[0m \u001b[0mprint_report\u001b[0m\u001b[1;33m(\u001b[0m\u001b[0my_test\u001b[0m\u001b[1;33m,\u001b[0m \u001b[0my_test_preds_dense\u001b[0m\u001b[1;33m,\u001b[0m \u001b[0mthresh\u001b[0m\u001b[1;33m)\u001b[0m\u001b[1;33m\u001b[0m\u001b[1;33m\u001b[0m\u001b[0m\n",
      "\u001b[1;31mNameError\u001b[0m: name 'y_train' is not defined"
     ]
    }
   ],
   "source": [
    "# Accessing Evaluation Metrics Function\n",
    "print('On Train Data')\n",
    "print_report(y_train, y_train_preds_dense, thresh)\n",
    "print('On Test Data')\n",
    "print_report(y_test, y_test_preds_dense, thresh)"
   ]
  },
  {
   "cell_type": "markdown",
   "metadata": {
    "papermill": {
     "duration": 0.388881,
     "end_time": "2021-12-19T15:58:49.541447",
     "exception": false,
     "start_time": "2021-12-19T15:58:49.152566",
     "status": "completed"
    },
    "tags": []
   },
   "source": [
    "## Convolutional Neural Networks(CNN)"
   ]
  },
  {
   "cell_type": "code",
   "execution_count": 28,
   "metadata": {
    "execution": {
     "iopub.execute_input": "2021-12-19T15:58:50.331208Z",
     "iopub.status.busy": "2021-12-19T15:58:50.330424Z",
     "iopub.status.idle": "2021-12-19T15:58:50.333639Z",
     "shell.execute_reply": "2021-12-19T15:58:50.334364Z",
     "shell.execute_reply.started": "2021-12-19T15:22:27.677592Z"
    },
    "papermill": {
     "duration": 0.403056,
     "end_time": "2021-12-19T15:58:50.334603",
     "exception": false,
     "start_time": "2021-12-19T15:58:49.931547",
     "status": "completed"
    },
    "tags": []
   },
   "outputs": [
    {
     "name": "stdout",
     "output_type": "stream",
     "text": [
      "(158568, 2160, 1)\n",
      "(78101, 2160, 1)\n"
     ]
    }
   ],
   "source": [
    "# reshape input to [samples, time steps, features = 1] for CNN\n",
    "X_train_cnn = np.reshape(X_train, (X_train.shape[0], X_train.shape[1], 1))\n",
    "X_test_cnn = np.reshape(X_test, (X_test.shape[0], X_test.shape[1], 1))\n",
    "\n",
    "print(X_train_cnn.shape)\n",
    "print(X_test_cnn.shape)"
   ]
  },
  {
   "cell_type": "code",
   "execution_count": 29,
   "metadata": {
    "execution": {
     "iopub.execute_input": "2021-12-19T15:58:51.127428Z",
     "iopub.status.busy": "2021-12-19T15:58:51.126700Z",
     "iopub.status.idle": "2021-12-19T15:58:51.177603Z",
     "shell.execute_reply": "2021-12-19T15:58:51.176967Z",
     "shell.execute_reply.started": "2021-12-19T15:22:27.837134Z"
    },
    "papermill": {
     "duration": 0.450284,
     "end_time": "2021-12-19T15:58:51.177807",
     "exception": false,
     "start_time": "2021-12-19T15:58:50.727523",
     "status": "completed"
    },
    "tags": []
   },
   "outputs": [],
   "source": [
    "# Relu for activation function & Dropout for reducing overfitting by randomly removing some nodes.\n",
    "model = Sequential()\n",
    "model.add(Conv1D(filters = 128, kernel_size = 5, activation = 'relu', input_shape = (2160,1)))\n",
    "model.add(Dropout(rate = 0.25))\n",
    "model.add(Flatten())\n",
    "model.add(Dense(1, activation = 'sigmoid'))\n",
    "\n",
    "# compile the model with binary crossentropy, and the adam optimizer\n",
    "model.compile(loss = 'binary_crossentropy',\n",
    "                optimizer = 'adam',\n",
    "                metrics = ['accuracy'])\n"
   ]
  },
  {
   "cell_type": "code",
   "execution_count": 30,
   "metadata": {
    "execution": {
     "iopub.execute_input": "2021-12-19T15:58:51.963430Z",
     "iopub.status.busy": "2021-12-19T15:58:51.962746Z",
     "iopub.status.idle": "2021-12-19T16:05:35.628928Z",
     "shell.execute_reply": "2021-12-19T16:05:35.629514Z",
     "shell.execute_reply.started": "2021-12-19T15:22:28.046811Z"
    },
    "papermill": {
     "duration": 404.062001,
     "end_time": "2021-12-19T16:05:35.629737",
     "exception": false,
     "start_time": "2021-12-19T15:58:51.567736",
     "status": "completed"
    },
    "tags": []
   },
   "outputs": [
    {
     "name": "stdout",
     "output_type": "stream",
     "text": [
      "Epoch 1/2\n",
      "4956/4956 [==============================] - 428s 86ms/step - loss: 0.0046 - accuracy: 0.9995\n",
      "Epoch 2/2\n",
      "4956/4956 [==============================] - 418s 84ms/step - loss: 0.0016 - accuracy: 0.9998\n"
     ]
    },
    {
     "data": {
      "text/plain": [
       "<keras.callbacks.History at 0x1f2e54a99d0>"
      ]
     },
     "execution_count": 30,
     "metadata": {},
     "output_type": "execute_result"
    }
   ],
   "source": [
    "# Fitting data in model\n",
    "model.fit(X_train_cnn, y_train, batch_size = 32, epochs= 2, verbose = 1)"
   ]
  },
  {
   "cell_type": "code",
   "execution_count": 32,
   "metadata": {
    "execution": {
     "iopub.execute_input": "2021-12-19T16:05:39.130314Z",
     "iopub.status.busy": "2021-12-19T16:05:39.129642Z",
     "iopub.status.idle": "2021-12-19T16:06:16.233182Z",
     "shell.execute_reply": "2021-12-19T16:06:16.235420Z",
     "shell.execute_reply.started": "2021-12-19T15:28:07.203540Z"
    },
    "papermill": {
     "duration": 38.84789,
     "end_time": "2021-12-19T16:06:16.236069",
     "exception": false,
     "start_time": "2021-12-19T16:05:37.388179",
     "status": "completed"
    },
    "scrolled": false,
    "tags": []
   },
   "outputs": [
    {
     "name": "stdout",
     "output_type": "stream",
     "text": [
      "4956/4956 [==============================] - 82s 17ms/step\n",
      "2441/2441 [==============================] - 41s 17ms/step\n"
     ]
    }
   ],
   "source": [
    "# Predictions\n",
    "y_train_preds_cnn = model.predict(X_train_cnn,verbose = 1)\n",
    "y_test_preds_cnn = model.predict(X_test_cnn,verbose = 1)"
   ]
  },
  {
   "cell_type": "code",
   "execution_count": 33,
   "metadata": {
    "execution": {
     "iopub.execute_input": "2021-12-19T16:06:20.226321Z",
     "iopub.status.busy": "2021-12-19T16:06:20.225639Z",
     "iopub.status.idle": "2021-12-19T16:06:20.792967Z",
     "shell.execute_reply": "2021-12-19T16:06:20.792260Z",
     "shell.execute_reply.started": "2021-12-19T15:28:35.014214Z"
    },
    "papermill": {
     "duration": 2.507737,
     "end_time": "2021-12-19T16:06:20.793159",
     "exception": false,
     "start_time": "2021-12-19T16:06:18.285422",
     "status": "completed"
    },
    "tags": []
   },
   "outputs": [
    {
     "name": "stdout",
     "output_type": "stream",
     "text": [
      "Train\n",
      "AUC:1.000\n",
      "Accuracy:0.914\n",
      "Recall:1.000\n",
      "Precision:0.005\n",
      "Specificity:0.914\n",
      "Prevalence:0.000\n",
      " \n",
      "Test\n",
      "AUC:0.948\n",
      "Accuracy:0.913\n",
      "Recall:0.909\n",
      "Precision:0.004\n",
      "Specificity:0.913\n",
      "Prevalence:0.000\n",
      " \n"
     ]
    }
   ],
   "source": [
    "# Metrics\n",
    "print('Train');\n",
    "print_report(y_train, y_train_preds_cnn, thresh)\n",
    "print('Test');\n",
    "print_report(y_test, y_test_preds_cnn, thresh);"
   ]
  },
  {
   "cell_type": "markdown",
   "metadata": {
    "papermill": {
     "duration": 1.938936,
     "end_time": "2021-12-19T16:06:24.671723",
     "exception": false,
     "start_time": "2021-12-19T16:06:22.732787",
     "status": "completed"
    },
    "tags": []
   },
   "source": [
    "## Long Short Term Memory (LSTM)"
   ]
  },
  {
   "cell_type": "code",
   "execution_count": 34,
   "metadata": {
    "execution": {
     "iopub.execute_input": "2021-12-19T16:06:28.645441Z",
     "iopub.status.busy": "2021-12-19T16:06:28.644456Z",
     "iopub.status.idle": "2021-12-19T16:06:28.675725Z",
     "shell.execute_reply": "2021-12-19T16:06:28.676269Z",
     "shell.execute_reply.started": "2021-12-19T15:28:35.595994Z"
    },
    "papermill": {
     "duration": 2.001135,
     "end_time": "2021-12-19T16:06:28.676462",
     "exception": false,
     "start_time": "2021-12-19T16:06:26.675327",
     "status": "completed"
    },
    "tags": []
   },
   "outputs": [],
   "source": [
    "# Bidirectional LSTM with Dropout for reducing overfitting by randomly removing some nodes.\n",
    "model = Sequential()\n",
    "model.add(Bidirectional(LSTM(64, input_shape=(X_train_cnn.shape[1], X_train_cnn.shape[2]))))\n",
    "model.add(Dropout(rate = 0.25))\n",
    "model.add(Dense(1, activation = 'sigmoid'))\n",
    "model.compile(\n",
    "                loss = 'binary_crossentropy',\n",
    "                optimizer = 'adam',\n",
    "                metrics = ['accuracy'])"
   ]
  },
  {
   "cell_type": "code",
   "execution_count": 35,
   "metadata": {
    "execution": {
     "iopub.execute_input": "2021-12-19T16:06:32.614321Z",
     "iopub.status.busy": "2021-12-19T16:06:32.612992Z",
     "iopub.status.idle": "2021-12-19T16:20:53.530912Z",
     "shell.execute_reply": "2021-12-19T16:20:53.530299Z",
     "shell.execute_reply.started": "2021-12-19T15:28:35.633148Z"
    },
    "papermill": {
     "duration": 862.927613,
     "end_time": "2021-12-19T16:20:53.531092",
     "exception": false,
     "start_time": "2021-12-19T16:06:30.603479",
     "status": "completed"
    },
    "scrolled": true,
    "tags": []
   },
   "outputs": [
    {
     "name": "stdout",
     "output_type": "stream",
     "text": [
      "313/313 [==============================] - 325s 1s/step - loss: 0.0331 - accuracy: 0.9952\n"
     ]
    },
    {
     "data": {
      "text/plain": [
       "<keras.callbacks.History at 0x1f2e5620f70>"
      ]
     },
     "execution_count": 35,
     "metadata": {},
     "output_type": "execute_result"
    }
   ],
   "source": [
    "# Fitting Data in model\n",
    "model.fit(X_train_cnn[:10000], y_train[:10000], batch_size = 32, epochs= 1, verbose = 1)"
   ]
  },
  {
   "cell_type": "code",
   "execution_count": 36,
   "metadata": {
    "execution": {
     "iopub.execute_input": "2021-12-19T16:20:57.651449Z",
     "iopub.status.busy": "2021-12-19T16:20:57.650756Z",
     "iopub.status.idle": "2021-12-19T16:36:54.492135Z",
     "shell.execute_reply": "2021-12-19T16:36:54.492715Z",
     "shell.execute_reply.started": "2021-12-19T15:41:38.725093Z"
    },
    "papermill": {
     "duration": 958.915387,
     "end_time": "2021-12-19T16:36:54.492929",
     "exception": false,
     "start_time": "2021-12-19T16:20:55.577542",
     "status": "completed"
    },
    "scrolled": true,
    "tags": []
   },
   "outputs": [
    {
     "name": "stdout",
     "output_type": "stream",
     "text": [
      "313/313 [==============================] - 54s 172ms/step\n",
      "2441/2441 [==============================] - 416s 171ms/step\n"
     ]
    }
   ],
   "source": [
    "# Prediction\n",
    "y_train_preds_lstm = model.predict(X_train_cnn[:10000],verbose = 1)\n",
    "y_test_preds_lstm = model.predict(X_test_cnn,verbose = 1)"
   ]
  },
  {
   "cell_type": "code",
   "execution_count": 37,
   "metadata": {
    "execution": {
     "iopub.execute_input": "2021-12-19T16:36:59.509643Z",
     "iopub.status.busy": "2021-12-19T16:36:59.508925Z",
     "iopub.status.idle": "2021-12-19T16:36:59.751630Z",
     "shell.execute_reply": "2021-12-19T16:36:59.752382Z",
     "shell.execute_reply.started": "2021-12-19T15:56:18.342635Z"
    },
    "papermill": {
     "duration": 2.701024,
     "end_time": "2021-12-19T16:36:59.752649",
     "exception": false,
     "start_time": "2021-12-19T16:36:57.051625",
     "status": "completed"
    },
    "tags": []
   },
   "outputs": [
    {
     "name": "stdout",
     "output_type": "stream",
     "text": [
      "Train\n",
      "AUC:0.795\n",
      "Accuracy:0.997\n",
      "Recall:0.000\n",
      "Precision:0.000\n",
      "Specificity:0.998\n",
      "Prevalence:0.001\n",
      " \n",
      "Test\n",
      "AUC:0.681\n",
      "Accuracy:0.998\n",
      "Recall:0.000\n",
      "Precision:0.000\n",
      "Specificity:0.999\n",
      "Prevalence:0.000\n",
      " \n"
     ]
    }
   ],
   "source": [
    "# Metrics\n",
    "print('Train');\n",
    "print_report(y_train[:10000], y_train_preds_lstm, thresh)\n",
    "print('Test');\n",
    "print_report(y_test, y_test_preds_lstm, thresh);"
   ]
  },
  {
   "cell_type": "markdown",
   "metadata": {
    "papermill": {
     "duration": 2.555503,
     "end_time": "2021-12-19T16:37:04.763394",
     "exception": false,
     "start_time": "2021-12-19T16:37:02.207891",
     "status": "completed"
    },
    "tags": []
   },
   "source": [
    "#### LSTM is not working good on data because we are using a subset of data"
   ]
  },
  {
   "cell_type": "markdown",
   "metadata": {
    "papermill": {
     "duration": 2.457292,
     "end_time": "2021-12-19T16:37:09.679435",
     "exception": false,
     "start_time": "2021-12-19T16:37:07.222143",
     "status": "completed"
    },
    "tags": []
   },
   "source": [
    "## Evaluation Metrics"
   ]
  },
  {
   "cell_type": "code",
   "execution_count": 38,
   "metadata": {
    "execution": {
     "iopub.execute_input": "2021-12-19T16:37:14.803883Z",
     "iopub.status.busy": "2021-12-19T16:37:14.802864Z",
     "iopub.status.idle": "2021-12-19T16:37:15.079984Z",
     "shell.execute_reply": "2021-12-19T16:37:15.079314Z",
     "shell.execute_reply.started": "2021-12-19T15:56:18.612093Z"
    },
    "papermill": {
     "duration": 2.797749,
     "end_time": "2021-12-19T16:37:15.080166",
     "exception": false,
     "start_time": "2021-12-19T16:37:12.282417",
     "status": "completed"
    },
    "tags": []
   },
   "outputs": [
    {
     "data": {
      "image/png": "[encoded data removed]",
      "text/plain": [
       "<Figure size 432x288 with 1 Axes>"
      ]
     },
     "metadata": {
      "needs_background": "light"
     },
     "output_type": "display_data"
    }
   ],
   "source": [
    "#The Area Under the Curve (AUC) is the measure of the ability of a classifier to distinguish between classes\n",
    "\n",
    "from sklearn.metrics import roc_curve, roc_auc_score\n",
    "\n",
    "fpr_test_cnn, tpr_test_cnn, t_test_cnn = roc_curve(y_test, y_test_preds_cnn)\n",
    "auc_test_cnn = roc_auc_score(y_test, y_test_preds_cnn)\n",
    "\n",
    "fpr_test_dense, tpr_test_dense, t_test_dense = roc_curve(y_test, y_test_preds_dense)\n",
    "auc_test_dense = roc_auc_score(y_test, y_test_preds_dense)\n",
    "\n",
    "fpr_test_lstm, tpr_test_lstm, t_test_lstm = roc_curve(y_test, y_test_preds_lstm)\n",
    "auc_test_lstm = roc_auc_score(y_test, y_test_preds_lstm)\n",
    "\n",
    "plt.plot(fpr_test_cnn, tpr_test_cnn, 'g-', label = 'CNN AUC:%.3f'%auc_test_cnn)\n",
    "plt.plot(fpr_test_dense, tpr_test_dense, 'r-', label = 'Dense AUC:%.3f'%auc_test_dense)\n",
    "plt.plot(fpr_test_lstm, tpr_test_lstm, 'b-', label = 'LSTM AUC:%.3f'%auc_test_lstm)\n",
    "\n",
    "plt.plot([0,1],[0,1], 'k--')\n",
    "plt.xlabel('FPR')\n",
    "plt.ylabel('TPR')\n",
    "plt.legend(bbox_to_anchor = (1.04,1), loc = 'upper left')\n",
    "plt.title('Testing Set')\n",
    "plt.show()\n"
   ]
  },
  {
   "cell_type": "code",
   "execution_count": null,
   "metadata": {},
   "outputs": [],
   "source": []
  }
 ],
 "metadata": {
  "kernelspec": {
   "display_name": "Python 3",
   "language": "python",
   "name": "python3"
  },
  "language_info": {
   "codemirror_mode": {
    "name": "ipython",
    "version": 3
   },
   "file_extension": ".py",
   "mimetype": "text/x-python",
   "name": "python",
   "nbconvert_exporter": "python",
   "pygments_lexer": "ipython3",
   "version": "3.8.5"
  },
  "papermill": {
   "default_parameters": {},
   "duration": 2412.618336,
   "end_time": "2021-12-19T16:37:20.576254",
   "environment_variables": {},
   "exception": null,
   "input_path": "__notebook__.ipynb",
   "output_path": "__notebook__.ipynb",
   "parameters": {},
   "start_time": "2021-12-19T15:57:07.957918",
   "version": "2.3.3"
  }
 },
 "nbformat": 4,
 "nbformat_minor": 5
}
